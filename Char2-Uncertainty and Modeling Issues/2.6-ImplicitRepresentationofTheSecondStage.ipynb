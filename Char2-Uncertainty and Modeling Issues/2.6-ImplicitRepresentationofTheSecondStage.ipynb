{
 "cells": [
  {
   "cell_type": "markdown",
   "metadata": {},
   "source": [
    "## 救护车应答问题\n",
    "\n",
    "当呼叫到达时，救护车可能已经在忙于处理之前的救护服务需求。在这种情况下，新的服务需求要么由备用救护车处理，要么进入其他等待的\"顾客\"队列。在这里，第一阶段的决策是为救护车找到一个合适的位置。第二阶段则是系统对随机需求的逐日响应。假设采用先进先出的决策规则，第二阶段的决策在某种程度上是确定的。另一方面，以期望服务时间衡量的响应质量取决于第一阶段的决策。事实上，在接到呼叫时，救护车通常会在接听电话之前赶到现场并返回基地。\n",
    "\n",
    "\\begin{align}\n",
    "\\mathcal{Q}(x) &= w(x) + \\bar{t}(x), \\\\\n",
    "\\text{where} \\quad \n",
    "w(x) &=\n",
    "\\begin{cases} \n",
    "\\frac{\\lambda \\bar{t}^{(2)}(x)}{2(1 - \\lambda \\bar{t}(x))}, & \\text{if } \\lambda \\bar{t}(x) < 1, \\\\\n",
    "0, & \\text{otherwise},\n",
    "\\end{cases} \\\\\n",
    "\\bar{t}(x) &= \\sum_{i=1}^m p_i t(i, x), \\\\\n",
    "\\bar{t}^{(2)}(x) &= \\sum_{i=1}^m p_i t^2(i, x).\n",
    "\\end{align}\n"
   ]
  }
 ],
 "metadata": {
  "kernelspec": {
   "display_name": "Python 3",
   "language": "python",
   "name": "python3"
  },
  "language_info": {
   "codemirror_mode": {
    "name": "ipython",
    "version": 3
   },
   "file_extension": ".py",
   "mimetype": "text/x-python",
   "name": "python",
   "nbconvert_exporter": "python",
   "pygments_lexer": "ipython3",
   "version": "3.12.1"
  }
 },
 "nbformat": 4,
 "nbformat_minor": 2
}

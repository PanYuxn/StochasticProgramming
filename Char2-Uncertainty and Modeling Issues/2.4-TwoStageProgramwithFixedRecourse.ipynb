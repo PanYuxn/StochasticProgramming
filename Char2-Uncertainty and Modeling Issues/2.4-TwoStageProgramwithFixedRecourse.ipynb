{
 "cells": [
  {
   "cell_type": "markdown",
   "metadata": {},
   "source": [
    "# 带固定成本的两阶段规划问题\n",
    "\n",
    "经典的两阶段随机规划问题模型如下：\n",
    "$$\n",
    "\\begin{gathered}\n",
    "\\min z=c^T x+\\mathrm{E}_{\\xi}\\left[\\min q(\\omega)^T y(\\omega)\\right] \\\\\n",
    "\\mathrm{s.t.} \\quad A x=b \\\\\n",
    "\\quad T(\\omega) x+W y(\\omega)=h(\\omega) \\\\\n",
    "x \\geq 0, y(\\omega) \\geq 0\n",
    "\\end{gathered}\n",
    "$$\n",
    "\n",
    "假定我们现在存在w个场景，那么在每一个场景下，具体的表达式可以撰写如下：\n",
    "\n",
    "$$\n",
    "Q(x, \\xi(\\omega)) = \\min_y \\{ q(\\omega)^T y \\mid W y = h(\\omega) - T(\\omega)x, y \\geq 0 \\}\n",
    "$$\n",
    "\n",
    "如果把这个表达式取一个期望，也就是在所有场景w下的一个期望值，表达式可以写出：\n",
    "\n",
    "$$\n",
    "\\mathcal{Q}(x) = \\mathbb{E}_{\\xi} Q(x, \\xi(\\omega))\n",
    "$$\n",
    "\n",
    "因此，我们上面最初的模型可以修改如下：\n",
    "\n",
    "\\begin{align}\n",
    "\\min z &= c^T x + \\mathcal{Q}(x) \\\\\n",
    "\\text{s.t. } &Ax = b, \\\\\n",
    "&x \\geq 0.\n",
    "\\end{align}\n",
    "\n"
   ]
  },
  {
   "cell_type": "markdown",
   "metadata": {},
   "source": [
    "## 2.1 确定性问题模型\n",
    "\n",
    "下面分别给出上面问题的经典例子。\n",
    "\n",
    "我们界定存在$i=1,....,m$个客户，每个客户都有对应的需求$d_{i}$，公司可以决定是否开启一个场所地点$j=1,...,n$，每个客户可以通过其中一个场所进行邮寄和存储物品，目标是最大化利润和最小化成本。\n",
    "\n",
    "下面分别给出对应的变量信息：\n",
    "$x_{j}$：场所j是否被开启。\n",
    "$y_{ij}$：客户i的需求被场所j满足的百分比。\n",
    "$t_{ij}$：场所j提供给客户i的单位成本。\n",
    "\n",
    "参数信息如下：\n",
    "$c_{j}$：场所j的固定成本。\n",
    "$v_{j}$：场所j的运营成本。\n",
    "\n",
    "模型可以构建如下：\n",
    "\\begin{align}\n",
    "\\text{UFLP:} \\quad \\max_{x, y} \\, z(x, y) = & - \\sum_{j=1}^n c_j x_j + \\sum_{i=1}^m \\sum_{j=1}^n q_{ij} y_{ij} \\\\\n",
    "\\text{s.t.} \\quad & \\sum_{j=1}^n y_{ij} \\leq 1, \\quad i = 1, \\dots, m, \\\\\n",
    "& 0 \\leq y_{ij} \\leq x_j, \\quad i = 1, \\dots, m, \\, j = 1, \\dots, n, \\\\\n",
    "& x_j \\in \\{0, 1\\}, \\quad j = 1, \\dots, n.\n",
    "\\end{align}\n"
   ]
  },
  {
   "cell_type": "markdown",
   "metadata": {},
   "source": [
    "## 2.2 固定分布模式，固定需求，随机成本模型\n",
    "\n",
    "我们的成本可以定义为：$q_{ij} = (r_{i}-v_{j}-t_{ij}) d_{i}$，其中$r_{i}$是客户i的单位利润，$v_{j}$是场所j的运营成本，$t_{ij}$是场所j提供给客户i的单位成本。但是现在存在一个随机性，因此我们需要一个新的变量$w_{ij}$来表示这个成本。具体目标函数改变为：\n",
    "\n",
    "\\begin{align}\n",
    "\\max \\, & - \\sum_{j=1}^n c_j x_j + \\mathbb{E}_{\\xi} \\left( \\sum_{i=1}^m \\sum_{j=1}^n q_{ij}(\\omega) w_{ij}(\\omega) \\right)\n",
    "\\end{align}\n",
    "\n",
    "同时，因为我们引入了随机性，也就是在w个场景下会发生的事情，在第二阶段，只有一种场景被实现，因此，在每个场景w下，需要额外满足一条约束如下：\n",
    "\n",
    "\\begin{align}\n",
    "w_{ij}(\\omega) = y_{ij}, \\quad i = 1, \\dots, m, \\quad j = 1, \\dots, n, \\quad \\forall \\omega.\n",
    "\\end{align}\n",
    "\n",
    "最后我们发现一个很神奇的情况，我们发现最终其实不确定性可以用期望在目标函数中体现，然后它并不影响到具体的决策，最终目标函数表达式如下：\n",
    "\n",
    "\n",
    "\\begin{align}\n",
    "\\max \\, & - \\sum_{j=1}^n c_j x_j + \\sum_{i=1}^m \\sum_{j=1}^n \\left( \\mathbb{E}_{\\xi} \\left( q_{ij}(\\omega) \\right) \\right) y_{ij}\n",
    "\\end{align}\n"
   ]
  },
  {
   "cell_type": "markdown",
   "metadata": {},
   "source": [
    "## 2.3 固定分配模式，需求不确定情况\n",
    "\n",
    "我们这里假定当前存在一个需求不确定的情况，那么我们需要引入两个变量和对应的参数来表示这个不确定性。两个变量分别为：超出量和不足量，对应的有其惩罚成本。定义如下：\n",
    "\n",
    "$w_{i}^{+}$：不足的量\n",
    "\n",
    "$w_{i}^{-}$：额外提供的量\n",
    "\n",
    "$q_{i}^{+}$：不足惩罚成本\n",
    "\n",
    "$q_{i}^{-}$：超出惩罚成本\n",
    "\n",
    "\\begin{align}\n",
    "\\max \\, & - \\sum_{j=1}^n c_j x_j + \\sum_{i=1}^m \\sum_{j=1}^n \\left( \\mathbb{E}_{\\xi}(-v_j - t_{ij}) \\right) y_{ij} \n",
    "+ \\mathbb{E}_{\\xi} \\left[ - \\sum_{i=1}^m q_i^+ w_i^+(\\omega) - \\sum_{i=1}^m q_i^- w_i^-(\\omega) \\right] \n",
    "+ \\mathbb{E}_{\\xi} \\sum_{i=1}^m r_i d_i(\\omega) \\\\\n",
    "\\text{s.t.} \\, & \\sum_{i=1}^m y_{ij} \\leq M x_j, \\quad j = 1, \\dots, n, \\\\\n",
    "& w_i^+(\\omega) - w_i^-(\\omega) = d_i(\\omega) - \\sum_{j=1}^n y_{ij}, \\quad i = 1, \\dots, m, \\\\\n",
    "& x_j \\in \\{0, 1\\}, \\quad 0 \\leq y_{ij}, \\quad w_i^+(\\omega) \\geq 0, \\quad w_i^-(\\omega) \\geq 0, \\quad i = 1, \\dots, m, \\, j = 1, \\dots, n.\n",
    "\\end{align}\n",
    "\n",
    "方程1：建造成本+运输成本+供应不足的缺货成本+过量供应的堆积成本+盈利成本\n",
    "方程2：只有在仓库j被建设的情况下才能运输货物\n",
    "方程3：客户i的需求量 = 顾客i的不足量 + 顾客i的额外提供量 + 运输量"
   ]
  },
  {
   "cell_type": "markdown",
   "metadata": {},
   "source": [
    "## 2.4 分配模式可变，需求不确定情况\n",
    "\n",
    "假设我们现在问题的分配模式变化了，每个场所可以按照自己量来供应客户，在这个情况下，$y_{ij}$其实也变成了一个随机变量，同时出现了一个参数$g_{j}$表示场所j的容量成本。\n",
    "\n",
    "\n",
    "\\begin{align}\n",
    "\\max \\, & - \\sum_{j=1}^n c_j x_j - \\sum_{j=1}^n g_j w_j \n",
    "+ \\mathbb{E}_{\\xi} \\max \\sum_{i=1}^m \\sum_{j=1}^n q_{ij}(\\omega) y_{ij}(\\omega) \\\\\n",
    "\\text{s.t.} \\, & x_j \\in \\{0, 1\\}, \\quad w_j \\geq 0, \\quad j = 1, \\dots, n, \\\\\n",
    "& \\sum_{j=1}^n y_{ij}(\\omega) \\leq 1, \\quad i = 1, \\dots, m, \\\\\n",
    "& \\sum_{i=1}^m d_i(\\omega) y_{ij}(\\omega) \\leq w_j, \\quad j = 1, \\dots, n.\n",
    "\\end{align}\n"
   ]
  },
  {
   "cell_type": "markdown",
   "metadata": {},
   "source": []
  }
 ],
 "metadata": {
  "language_info": {
   "name": "python"
  }
 },
 "nbformat": 4,
 "nbformat_minor": 2
}

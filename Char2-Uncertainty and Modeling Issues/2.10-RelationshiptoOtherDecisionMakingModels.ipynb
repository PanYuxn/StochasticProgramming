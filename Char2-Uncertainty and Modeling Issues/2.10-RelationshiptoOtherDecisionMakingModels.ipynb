{
 "cells": [
  {
   "cell_type": "code",
   "execution_count": null,
   "metadata": {},
   "outputs": [],
   "source": []
  },
  {
   "cell_type": "markdown",
   "metadata": {},
   "source": [
    "## a. 统计学决策理论和决策分析\n",
    "\n",
    "穷举所有可能性，得到最后的结果。"
   ]
  },
  {
   "cell_type": "markdown",
   "metadata": {},
   "source": [
    "## b. 动态规划和马尔可夫决策过程\n",
    "\n",
    "通过定义`state`和`action`的方式，将决策周期分为`t`个阶段，在每个阶段有对应的操作。\n",
    "\n"
   ]
  },
  {
   "cell_type": "markdown",
   "metadata": {},
   "source": [
    "..."
   ]
  }
 ],
 "metadata": {
  "language_info": {
   "name": "python"
  }
 },
 "nbformat": 4,
 "nbformat_minor": 2
}

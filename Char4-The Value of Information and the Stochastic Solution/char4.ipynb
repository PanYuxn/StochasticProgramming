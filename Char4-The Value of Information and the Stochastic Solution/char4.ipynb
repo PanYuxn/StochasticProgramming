{
 "cells": [
  {
   "cell_type": "markdown",
   "metadata": {},
   "source": [
    "# Char4-1The Expectd Value of Perfect Information"
   ]
  },
  {
   "cell_type": "markdown",
   "metadata": {},
   "source": [
    "## EVPI (Expected Value of Perfect Information)\n",
    "\n",
    "首先，我们一般的随即规划表达式如下：\n",
    "\n",
    "$$\n",
    "\\min z(x, \\xi)=c^T x+\\min \\left\\{q^T y \\mid W y=h-T x, y \\geq 0\\right\\}\n",
    "$$\n",
    "$$\n",
    "s.t\\quad Ax=b,x\\ge0\n",
    "$$\n",
    "\n",
    "下面从`信息`的角度来考虑三种解的情况：\n",
    "- Wait-and-see （WS）解是最好的，它假设我存在完美信息，也就是我wait到有了information后才去see最优解\n",
    "- Recourse Problem（RP）解次于上面，因为这个解考虑了所有的可能性，也就是它尝试找到能满足所有情况的一个解\n",
    "- Expected Value（EEV）解最差，因为它只是基于期望值的一个可行解\n",
    "\n",
    "具体来说，WS的期望在外面，也就是每一种情况我都找到了最优解，方程如下：\n",
    "$$\n",
    "WS = E_{\\xi}[min_{x}z(x,\\xi)]=E_{\\xi}z(x(\\xi),\\xi)\n",
    "$$\n",
    "\n",
    "RP的期望则在Min的里面，因为我是需要找到能满足所有情况的一个解：\n",
    "$$\n",
    "RP=min_{x}E_{\\xi}z(x,\\xi)\n",
    "$$\n",
    "\n",
    "那么上面两个就会出现一个差值，这个差值就是完美信息的价值，表达式如下：\n",
    "$$\n",
    "EVPI=RP-WS\n",
    "$$\n",
    "\n"
   ]
  },
  {
   "cell_type": "markdown",
   "metadata": {},
   "source": [
    "# Char4.2 The Value of Stochastic Solution"
   ]
  },
  {
   "cell_type": "markdown",
   "metadata": {},
   "source": [
    "刚刚还提到了一个解法，也就是EV，将所有随机值通过取期望的方式把它确定下来在求解，也就是：\n",
    "$$\n",
    "EV=\\min _x z(x, \\bar{\\xi})\n",
    "$$\n",
    "\n",
    "那么在所有情况下的期望则是：\n",
    "$$\n",
    "EEV=E_{\\xi}(z(\\bar{x}(\\bar{\\xi}),\\xi))\n",
    "$$\n",
    "\n",
    "这里我们可以发现，EEV其实是个确定性问题，因为我们的参数已经使用一个定值进行替换了，所以这种情况下我们又可以得到一个差值，它的名称是`VSS`(Value of Stochasitc Solution).\n",
    "$$\n",
    "VSS=EEV-RP\n",
    "$$\n"
   ]
  },
  {
   "cell_type": "markdown",
   "metadata": {},
   "source": [
    "# Char4.3 Basic Inequalities"
   ]
  },
  {
   "cell_type": "markdown",
   "metadata": {},
   "source": [
    "## Proposition1\n",
    "$$\n",
    "WS\\le RP \\le EEV\n",
    "$$\n",
    "\n",
    "这部分我们可以通过理解每个式子的含义来解答，他们从左到右的顺序是`对于信息提取的不断放宽`，也就是最右边对于信息的不确定性基本无视，而越左边则是越注重信息的价值。因此，对应下来，也就是我们得到越多的信息，我们自然也会得到更小的目标函数值，也就是我们的成本会越小。\n",
    "\n",
    "## Preposition2\n",
    "对于一个随机规划式子，如果目标函数系数固定，W矩阵固定，那么：\n",
    "$$\n",
    "EV\\le WS\n",
    "$$\n",
    "\n",
    "这里给出了一个反直觉的现象，如果在前两个条件确定下来的时候，那么最后的结论可能反直觉。\n",
    "\n",
    "..."
   ]
  },
  {
   "cell_type": "markdown",
   "metadata": {},
   "source": [
    "# Char4.4 The Relationship between EVPI and VSS"
   ]
  },
  {
   "cell_type": "markdown",
   "metadata": {},
   "source": [
    "## Preposition5 \n",
    "a.对于任意的随即规划问题，存在：\n",
    "$$\n",
    "EVPI\\ge 0\n",
    "$$\n",
    "$$\n",
    "VSS\\ge 0\n",
    "$$\n",
    "\n",
    "b. 对于固定目标系数和补偿矩阵的随机规划问题，存在：\n",
    "$$\n",
    "EVPI \\le EEV - EV\n",
    "$$\n",
    "$$\n",
    "VSS \\le EEV - EV\n",
    "$$\n"
   ]
  }
 ],
 "metadata": {
  "kernelspec": {
   "display_name": "Python 3",
   "language": "python",
   "name": "python3"
  },
  "language_info": {
   "name": "python",
   "version": "3.12.1"
  }
 },
 "nbformat": 4,
 "nbformat_minor": 2
}

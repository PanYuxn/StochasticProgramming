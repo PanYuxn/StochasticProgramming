{
 "cells": [
  {
   "cell_type": "markdown",
   "metadata": {},
   "source": [
    "# 1. 确定性情况下模型搭建"
   ]
  },
  {
   "cell_type": "code",
   "execution_count": 7,
   "metadata": {},
   "outputs": [
    {
     "name": "stdout",
     "output_type": "stream",
     "text": [
      "Gurobi Optimizer version 11.0.0 build v11.0.0rc2 (win64 - Windows 11+.0 (22631.2))\n",
      "\n",
      "CPU model: 13th Gen Intel(R) Core(TM) i5-13500H, instruction set [SSE2|AVX|AVX2]\n",
      "Thread count: 12 physical cores, 16 logical processors, using up to 16 threads\n",
      "\n",
      "Optimize a model with 5 rows, 10 columns and 13 nonzeros\n",
      "Model fingerprint: 0xbe8c1566\n",
      "Coefficient statistics:\n",
      "  Matrix range     [1e+00, 2e+01]\n",
      "  Objective range  [1e+01, 3e+02]\n",
      "  Bounds range     [0e+00, 0e+00]\n",
      "  RHS range        [2e+02, 6e+03]\n",
      "Presolve removed 2 rows and 3 columns\n",
      "Presolve time: 0.01s\n",
      "Presolved: 3 rows, 7 columns, 9 nonzeros\n",
      "\n",
      "Iteration    Objective       Primal Inf.    Dual Inf.      Time\n",
      "       0   -5.1200000e+33   2.000000e+30   5.120000e+03      0s\n",
      "       4   -1.1860000e+05   0.000000e+00   0.000000e+00      0s\n",
      "\n",
      "Solved in 4 iterations and 0.01 seconds (0.00 work units)\n",
      "Optimal objective -1.186000000e+05\n",
      "种植方案\n",
      "Wheat种植量： 120.0 Corn种植量： 80.0 Sugar Beets种植量： 300.0\n",
      "购买方案\n",
      "Wheat购买量： 0.0 Corn购买量： 0.0\n",
      "销售方案\n",
      "Wheat销售量： 100.0 Corn销售量： 0.0 Sugar Beets销售量： 6000.0 Sugar Beets销售量： 0.0\n",
      "Obj: -118600.0\n"
     ]
    }
   ],
   "source": [
    "from gurobipy import *\n",
    "\n",
    "yield_info = [2.5,3,20]\n",
    "plant_cost = [150,230,260]\n",
    "sell_price =[170,150,36,10]\n",
    "puchase_price = [238,210,10000]\n",
    "require_info = [200,240,0]\n",
    "\n",
    "# 定义模型\n",
    "model = Model(\"Farming\")\n",
    "\n",
    "# 定义变量\n",
    "x1 = model.addVar(name=\"x1\", lb=0,vtype=GRB.CONTINUOUS)\n",
    "x2 = model.addVar(name=\"x2\", lb=0,vtype=GRB.CONTINUOUS)\n",
    "x3 = model.addVar(name=\"x3\", lb=0,vtype=GRB.CONTINUOUS)\n",
    "y1 = model.addVar(name=\"y1\", lb=0,vtype=GRB.CONTINUOUS)\n",
    "y2 = model.addVar(name=\"y2\", lb=0,vtype=GRB.CONTINUOUS)\n",
    "y3 = model.addVar(name=\"y3\", lb=0,vtype=GRB.CONTINUOUS)\n",
    "w1 = model.addVar(name=\"w1\", lb=0,vtype=GRB.CONTINUOUS)\n",
    "w2 = model.addVar(name=\"w2\", lb=0,vtype=GRB.CONTINUOUS)\n",
    "w3 = model.addVar(name=\"w3\", lb=0,vtype=GRB.CONTINUOUS)\n",
    "w4 = model.addVar(name=\"w4\", lb=0,vtype=GRB.CONTINUOUS)\n",
    "\n",
    "# 定义目标函数\n",
    "model.setObjective(\n",
    "    x1*plant_cost[0]+x2*plant_cost[1]+x3*plant_cost[2]+y1*puchase_price[0]+y2*puchase_price[1]-w1*sell_price[0]-w2*sell_price[1]-w3*sell_price[2]-w4*sell_price[3],GRB.MINIMIZE\n",
    ")\n",
    "\n",
    "# 约束条件\n",
    "model.addConstr(x1+x2+x3 <=500) # 土地限制\n",
    "model.addConstr(yield_info[0]*x1+y1-w1>=require_info[0]) # Wheat需求限制\n",
    "model.addConstr(yield_info[1]*x2+y2-w2>=require_info[1]) # Corn需求限制\n",
    "model.addConstr(w3+w4<=yield_info[2]*x3) # \n",
    "model.addConstr(w3<=6000)\n",
    "\n",
    "# 求解\n",
    "model.optimize()\n",
    "\n",
    "print('种植方案')\n",
    "print('Wheat种植量：',x1.x,'Corn种植量：',x2.x,'Sugar Beets种植量：',x3.x)\n",
    "print('购买方案')\n",
    "print('Wheat购买量：',y1.x,'Corn购买量：',y2.x)\n",
    "print('销售方案')\n",
    "print('Wheat销售量：',w1.x,'Corn销售量：',w2.x,'Sugar Beets销售量(<=6000)：',w3.x,'Sugar Beets销售量(>6000)：',w4.x)\n",
    "print(f\"Obj: {model.objVal}\")\n",
    "\n"
   ]
  },
  {
   "cell_type": "markdown",
   "metadata": {},
   "source": [
    "# 2. 随机情况下模型搭建\n",
    "\n",
    "现在假设我们可能存在三种情况，丰收(+20%)，正常，欠收(-20%)。那么这个情况下我们的策略是否需要改变呢？答案一定是需要改变的，下面分别先列出三种情况下的模型。"
   ]
  },
  {
   "cell_type": "markdown",
   "metadata": {},
   "source": [
    "## 2.1 丰收情况下确定性模型结果"
   ]
  },
  {
   "cell_type": "code",
   "execution_count": 23,
   "metadata": {},
   "outputs": [
    {
     "name": "stdout",
     "output_type": "stream",
     "text": [
      "Gurobi Optimizer version 11.0.0 build v11.0.0rc2 (win64 - Windows 11+.0 (22631.2))\n",
      "\n",
      "CPU model: 13th Gen Intel(R) Core(TM) i5-13500H, instruction set [SSE2|AVX|AVX2]\n",
      "Thread count: 12 physical cores, 16 logical processors, using up to 16 threads\n",
      "\n",
      "Optimize a model with 8 rows, 10 columns and 16 nonzeros\n",
      "Model fingerprint: 0x236984d8\n",
      "Coefficient statistics:\n",
      "  Matrix range     [1e+00, 2e+01]\n",
      "  Objective range  [1e+01, 3e+02]\n",
      "  Bounds range     [0e+00, 0e+00]\n",
      "  RHS range        [8e+01, 6e+03]\n",
      "Presolve removed 8 rows and 10 columns\n",
      "Presolve time: 0.01s\n",
      "Presolve: All rows and columns removed\n",
      "Iteration    Objective       Primal Inf.    Dual Inf.      Time\n",
      "       0   -1.5429350e+05   0.000000e+00   0.000000e+00      0s\n",
      "\n",
      "Solved in 0 iterations and 0.01 seconds (0.00 work units)\n",
      "Optimal objective -1.542935000e+05\n",
      "种植方案\n",
      "Wheat种植量： 135.83 Corn种植量： 80.57 Sugar Beets种植量： 279.1\n",
      "购买方案\n",
      "Wheat购买量： 0.0 Corn购买量： 0.0\n",
      "销售方案\n",
      "Wheat销售量： 207.49 Corn销售量： 50.051999999999964 Sugar Beets销售量(<=6000)： 6000.0 Sugar Beets销售量(>6000)： 698.4000000000005\n",
      "Obj: -154293.5\n"
     ]
    }
   ],
   "source": [
    "from gurobipy import *\n",
    "import numpy as np\n",
    "yield_info = np.array([2.5,3,20])*1.2\n",
    "plant_cost = np.array([150,230,260])\n",
    "sell_price =np.array([170,150,36,10])\n",
    "puchase_price = np.array([238,210,10000])\n",
    "require_info = np.array([200,240,0])\n",
    "\n",
    "# 定义模型\n",
    "model = Model(\"Farming\")\n",
    "\n",
    "# 定义变量\n",
    "x1 = model.addVar(name=\"x1\", lb=0,vtype=GRB.CONTINUOUS)\n",
    "x2 = model.addVar(name=\"x2\", lb=0,vtype=GRB.CONTINUOUS)\n",
    "x3 = model.addVar(name=\"x3\", lb=0,vtype=GRB.CONTINUOUS)\n",
    "y1 = model.addVar(name=\"y1\", lb=0,vtype=GRB.CONTINUOUS)\n",
    "y2 = model.addVar(name=\"y2\", lb=0,vtype=GRB.CONTINUOUS)\n",
    "y3 = model.addVar(name=\"y3\", lb=0,vtype=GRB.CONTINUOUS)\n",
    "w1 = model.addVar(name=\"w1\", lb=0,vtype=GRB.CONTINUOUS)\n",
    "w2 = model.addVar(name=\"w2\", lb=0,vtype=GRB.CONTINUOUS)\n",
    "w3 = model.addVar(name=\"w3\", lb=0,vtype=GRB.CONTINUOUS)\n",
    "w4 = model.addVar(name=\"w4\", lb=0,vtype=GRB.CONTINUOUS)\n",
    "\n",
    "# 定义目标函数\n",
    "model.setObjective(\n",
    "    x1*plant_cost[0]+x2*plant_cost[1]+x3*plant_cost[2]+y1*puchase_price[0]+y2*puchase_price[1]-w1*sell_price[0]-w2*sell_price[1]-w3*sell_price[2]-w4*sell_price[3],GRB.MINIMIZE\n",
    ")\n",
    "\n",
    "# 约束条件\n",
    "model.addConstr(x1+x2+x3 <=500) # 土地限制\n",
    "model.addConstr(yield_info[0]*x1+y1-w1>=require_info[0]) # Wheat需求限制\n",
    "model.addConstr(yield_info[1]*x2+y2-w2>=require_info[1]) # Corn需求限制\n",
    "model.addConstr(w3+w4<=yield_info[2]*x3) # \n",
    "model.addConstr(w3<=6000)\n",
    "\n",
    "# 求解\n",
    "model.optimize()\n",
    "\n",
    "print('种植方案')\n",
    "print('Wheat种植量：',x1.x,'Corn种植量：',x2.x,'Sugar Beets种植量：',x3.x)\n",
    "print('购买方案')\n",
    "print('Wheat购买量：',y1.x,'Corn购买量：',y2.x)\n",
    "print('销售方案')\n",
    "print('Wheat销售量：',w1.x,'Corn销售量：',w2.x,'Sugar Beets销售量(<=6000)：',w3.x,'Sugar Beets销售量(>6000)：',w4.x)\n",
    "print(f\"Obj: {model.objVal}\")\n"
   ]
  },
  {
   "cell_type": "markdown",
   "metadata": {},
   "source": [
    "## 2.2 欠收情况下确定性模型结果"
   ]
  },
  {
   "cell_type": "code",
   "execution_count": 24,
   "metadata": {},
   "outputs": [
    {
     "name": "stdout",
     "output_type": "stream",
     "text": [
      "Gurobi Optimizer version 11.0.0 build v11.0.0rc2 (win64 - Windows 11+.0 (22631.2))\n",
      "\n",
      "CPU model: 13th Gen Intel(R) Core(TM) i5-13500H, instruction set [SSE2|AVX|AVX2]\n",
      "Thread count: 12 physical cores, 16 logical processors, using up to 16 threads\n",
      "\n",
      "Optimize a model with 8 rows, 10 columns and 16 nonzeros\n",
      "Model fingerprint: 0xed6dde1f\n",
      "Coefficient statistics:\n",
      "  Matrix range     [1e+00, 2e+01]\n",
      "  Objective range  [1e+01, 3e+02]\n",
      "  Bounds range     [0e+00, 0e+00]\n",
      "  RHS range        [8e+01, 6e+03]\n",
      "Presolve removed 8 rows and 10 columns\n",
      "Presolve time: 0.01s\n",
      "Presolve: All rows and columns removed\n",
      "Iteration    Objective       Primal Inf.    Dual Inf.      Time\n",
      "       0   -5.1679480e+04   0.000000e+00   0.000000e+00      0s\n",
      "\n",
      "Solved in 0 iterations and 0.02 seconds (0.00 work units)\n",
      "Optimal objective -5.167948000e+04\n",
      "种植方案\n",
      "Wheat种植量： 135.83 Corn种植量： 80.57 Sugar Beets种植量： 279.1\n",
      "购买方案\n",
      "Wheat购买量： 0.0 Corn购买量： 46.63199999999998\n",
      "销售方案\n",
      "Wheat销售量： 71.66000000000003 Corn销售量： 0.0 Sugar Beets销售量(<=6000)： 4465.6 Sugar Beets销售量(>6000)： 0.0\n",
      "Obj: -51679.48000000001\n"
     ]
    }
   ],
   "source": [
    "from gurobipy import *\n",
    "import numpy as np\n",
    "yield_info = np.array([2.5,3,20])*0.8\n",
    "plant_cost = np.array([150,230,260])\n",
    "sell_price =np.array([170,150,36,10])\n",
    "puchase_price = np.array([238,210,10000])\n",
    "require_info = np.array([200,240,0])\n",
    "\n",
    "# 定义模型\n",
    "model = Model(\"Farming\")\n",
    "\n",
    "# 定义变量\n",
    "x1 = model.addVar(name=\"x1\", lb=0,vtype=GRB.CONTINUOUS)\n",
    "x2 = model.addVar(name=\"x2\", lb=0,vtype=GRB.CONTINUOUS)\n",
    "x3 = model.addVar(name=\"x3\", lb=0,vtype=GRB.CONTINUOUS)\n",
    "y1 = model.addVar(name=\"y1\", lb=0,vtype=GRB.CONTINUOUS)\n",
    "y2 = model.addVar(name=\"y2\", lb=0,vtype=GRB.CONTINUOUS)\n",
    "y3 = model.addVar(name=\"y3\", lb=0,vtype=GRB.CONTINUOUS)\n",
    "w1 = model.addVar(name=\"w1\", lb=0,vtype=GRB.CONTINUOUS)\n",
    "w2 = model.addVar(name=\"w2\", lb=0,vtype=GRB.CONTINUOUS)\n",
    "w3 = model.addVar(name=\"w3\", lb=0,vtype=GRB.CONTINUOUS)\n",
    "w4 = model.addVar(name=\"w4\", lb=0,vtype=GRB.CONTINUOUS)\n",
    "\n",
    "# 定义目标函数\n",
    "model.setObjective(\n",
    "    x1*plant_cost[0]+x2*plant_cost[1]+x3*plant_cost[2]+y1*puchase_price[0]+y2*puchase_price[1]-w1*sell_price[0]-w2*sell_price[1]-w3*sell_price[2]-w4*sell_price[3],GRB.MINIMIZE\n",
    ")\n",
    "\n",
    "# 约束条件\n",
    "model.addConstr(x1+x2+x3 <=500) # 土地限制\n",
    "model.addConstr(yield_info[0]*x1+y1-w1>=require_info[0]) # Wheat需求限制\n",
    "model.addConstr(yield_info[1]*x2+y2-w2>=require_info[1]) # Corn需求限制\n",
    "model.addConstr(w3+w4<=yield_info[2]*x3) # \n",
    "model.addConstr(w3<=6000)\n",
    "\n",
    "# 求解\n",
    "model.optimize()\n",
    "\n",
    "print('种植方案')\n",
    "print('Wheat种植量：',x1.x,'Corn种植量：',x2.x,'Sugar Beets种植量：',x3.x)\n",
    "print('购买方案')\n",
    "print('Wheat购买量：',y1.x,'Corn购买量：',y2.x)\n",
    "print('销售方案')\n",
    "print('Wheat销售量：',w1.x,'Corn销售量：',w2.x,'Sugar Beets销售量(<=6000)：',w3.x,'Sugar Beets销售量(>6000)：',w4.x)\n",
    "print(f\"Obj: {model.objVal}\")"
   ]
  },
  {
   "cell_type": "markdown",
   "metadata": {},
   "source": [
    "## 2.3 随机情况下模型搭建\n"
   ]
  },
  {
   "cell_type": "code",
   "execution_count": 26,
   "metadata": {},
   "outputs": [
    {
     "name": "stdout",
     "output_type": "stream",
     "text": [
      "Gurobi Optimizer version 11.0.0 build v11.0.0rc2 (win64 - Windows 11+.0 (22631.2))\n",
      "\n",
      "CPU model: 13th Gen Intel(R) Core(TM) i5-13500H, instruction set [SSE2|AVX|AVX2]\n",
      "Thread count: 12 physical cores, 16 logical processors, using up to 16 threads\n",
      "\n",
      "Optimize a model with 13 rows, 24 columns and 33 nonzeros\n",
      "Model fingerprint: 0x1e2e01f5\n",
      "Coefficient statistics:\n",
      "  Matrix range     [1e+00, 2e+01]\n",
      "  Objective range  [3e+00, 3e+02]\n",
      "  Bounds range     [0e+00, 0e+00]\n",
      "  RHS range        [2e+02, 6e+03]\n",
      "Presolve removed 4 rows and 4 columns\n",
      "Presolve time: 0.00s\n",
      "Presolved: 9 rows, 20 columns, 30 nonzeros\n",
      "\n",
      "Iteration    Objective       Primal Inf.    Dual Inf.      Time\n",
      "       0   -2.5600000e+33   6.000000e+30   2.560000e+03      0s\n",
      "      13   -1.0839000e+05   0.000000e+00   0.000000e+00      0s\n",
      "\n",
      "Solved in 13 iterations and 0.01 seconds (0.00 work units)\n",
      "Optimal objective -1.083900000e+05\n",
      "==================================================\n",
      "种植方案\n",
      "Wheat种植量：170.0, Corn种植量：80.0, Sugar Beets种植量：250.0\n",
      "正常情况下\n",
      "Wheat购买量：0.0, Corn购买量：0.0\n",
      "Wheat销售量：225.0, Corn销售量：0.0, Sugar Beets销售量(<=6000)：5000.0, Sugar Beets销售量(>6000)：0.0\n",
      "丰收情况下\n",
      "Wheat购买量：0.0, Corn购买量：0.0\n",
      "Wheat销售量：310.0, Corn销售量：48.0, Sugar Beets销售量(<=6000)：6000.0, Sugar Beets销售量(>6000)：0.0\n",
      "欠收情况下\n",
      "Wheat购买量：0.0, Corn购买量：47.99999999999997\n",
      "Wheat销售量：140.0, Corn销售量：0.0, Sugar Beets销售量(<=6000)：4000.0, Sugar Beets销售量(>6000)：0.0\n",
      "Obj: -108389.99999999999\n",
      "==================================================\n"
     ]
    }
   ],
   "source": [
    "from gurobipy import *\n",
    "import numpy as np\n",
    "normal_yield_info = np.array([2.5,3,20])\n",
    "up_yield_info = np.array([2.5,3,20])*1.2\n",
    "down_yield_info = np.array([2.5,3,20])*0.8\n",
    "plant_cost = np.array([150,230,260])\n",
    "sell_price =np.array([170,150,36,10])\n",
    "puchase_price = np.array([238,210,10000])\n",
    "require_info = np.array([200,240,0])\n",
    "\n",
    "# 定义模型\n",
    "model = Model(\"Farming\")\n",
    "C = range(3)\n",
    "# 定义变量\n",
    "x1 = model.addVar(name=\"x1\", lb=0,vtype=GRB.CONTINUOUS)\n",
    "x2 = model.addVar(name=\"x2\", lb=0,vtype=GRB.CONTINUOUS)\n",
    "x3 = model.addVar(name=\"x3\", lb=0,vtype=GRB.CONTINUOUS)\n",
    "y1 = model.addVars(C,name=\"y1\", lb=0,vtype=GRB.CONTINUOUS)\n",
    "y2 = model.addVars(C,name=\"y2\", lb=0,vtype=GRB.CONTINUOUS)\n",
    "y3 = model.addVars(C,name=\"y3\", lb=0,vtype=GRB.CONTINUOUS)\n",
    "w1 = model.addVars(C,name=\"w1\", lb=0,vtype=GRB.CONTINUOUS)\n",
    "w2 = model.addVars(C,name=\"w2\", lb=0,vtype=GRB.CONTINUOUS)\n",
    "w3 = model.addVars(C,name=\"w3\", lb=0,vtype=GRB.CONTINUOUS)\n",
    "w4 = model.addVars(C,name=\"w4\", lb=0,vtype=GRB.CONTINUOUS)\n",
    "\n",
    "# 定义目标函数\n",
    "obj = LinExpr()\n",
    "obj += x1*plant_cost[0]+x2*plant_cost[1]+x3*plant_cost[2]\n",
    "obj += 1/3*(y1[0]*puchase_price[0]+y2[0]*puchase_price[1]-w1[0]*sell_price[0]-w2[0]*sell_price[1]-w3[0]*sell_price[2]-w4[0]*sell_price[3])\n",
    "obj += 1/3*(y1[1]*puchase_price[0]+y2[1]*puchase_price[1]-w1[1]*sell_price[0]-w2[1]*sell_price[1]-w3[1]*sell_price[2]-w4[1]*sell_price[3])\n",
    "obj += 1/3*(y1[2]*puchase_price[0]+y2[2]*puchase_price[1]-w1[2]*sell_price[0]-w2[2]*sell_price[1]-w3[2]*sell_price[2]-w4[2]*sell_price[3])\n",
    "\n",
    "model.setObjective(\n",
    "    obj,GRB.MINIMIZE\n",
    ")\n",
    "\n",
    "# 约束条件\n",
    "model.addConstr(x1+x2+x3 <=500) # 土地限制\n",
    "\n",
    "# 正常情况下\n",
    "model.addConstr(normal_yield_info[0]*x1+y1[0]-w1[0]>=require_info[0]) # Wheat需求限制\n",
    "model.addConstr(normal_yield_info[1]*x2+y2[0]-w2[0]>=require_info[1]) # Corn需求限制\n",
    "model.addConstr(w3[0]+w4[0]<=normal_yield_info[2]*x3) \n",
    "\n",
    "# 丰收情况下\n",
    "model.addConstr(up_yield_info[0]*x1+y1[1]-w1[1]>=require_info[0]) # Wheat需求限制\n",
    "model.addConstr(up_yield_info[1]*x2+y2[1]-w2[1]>=require_info[1]) # Corn需求限制\n",
    "model.addConstr(w3[1]+w4[1]<=up_yield_info[2]*x3) \n",
    "\n",
    "# 欠收情况下\n",
    "model.addConstr(down_yield_info[0]*x1+y1[2]-w1[2]>=require_info[0]) # Wheat需求限制\n",
    "model.addConstr(down_yield_info[1]*x2+y2[2]-w2[2]>=require_info[1]) # Corn需求限制\n",
    "model.addConstr(w3[2]+w4[2]<=down_yield_info[2]*x3) \n",
    "\n",
    "# 生产限制.\n",
    "model.addConstrs(w3[i]<=6000 for i in C)\n",
    "\n",
    "# 求解\n",
    "model.optimize()\n",
    "print('='*50)\n",
    "print('种植方案')\n",
    "print(f\"Wheat种植量：{x1.x}, Corn种植量：{x2.x}, Sugar Beets种植量：{x3.x}\")\n",
    "print('正常情况下')\n",
    "print(f\"Wheat购买量：{y1[0].x}, Corn购买量：{y2[0].x}\")\n",
    "print(f\"Wheat销售量：{w1[0].x}, Corn销售量：{w2[0].x}, Sugar Beets销售量(<=6000)：{w3[0].x}, Sugar Beets销售量(>6000)：{w4[0].x}\")\n",
    "print('丰收情况下')\n",
    "print(f\"Wheat购买量：{y1[1].x}, Corn购买量：{y2[1].x}\")\n",
    "print(f\"Wheat销售量：{w1[1].x}, Corn销售量：{w2[1].x}, Sugar Beets销售量(<=6000)：{w3[1].x}, Sugar Beets销售量(>6000)：{w4[1].x}\")\n",
    "print('欠收情况下')\n",
    "print(f\"Wheat购买量：{y1[2].x}, Corn购买量：{y2[2].x}\")\n",
    "print(f\"Wheat销售量：{w1[2].x}, Corn销售量：{w2[2].x}, Sugar Beets销售量(<=6000)：{w3[2].x}, Sugar Beets销售量(>6000)：{w4[2].x}\")\n",
    "print(f\"Obj: {model.objVal}\")\n",
    "print('='*50)"
   ]
  },
  {
   "cell_type": "markdown",
   "metadata": {},
   "source": [
    "## EVPI 和 VSS引入\n",
    "\n",
    "如果我们现在不知道具体的情况，按平均概率来看这个事件，我们最优决策下的目标函数为：108390\n",
    "\n",
    "如果我们现在有一个`Perfect Information`，也就是我们知道所有信息，那么我们最优决策下的目标函数为：(59950+167667+118600)/3=115404.66\n",
    "\n",
    "**EVPI**:两者之间存在一个差值，这个差值就是`信息带来的价值` = 115404-108390=7014\n",
    "\n"
   ]
  },
  {
   "cell_type": "code",
   "execution_count": 4,
   "metadata": {},
   "outputs": [
    {
     "data": {
      "text/plain": [
       "36000"
      ]
     },
     "execution_count": 4,
     "metadata": {},
     "output_type": "execute_result"
    }
   ],
   "source": [
    "150*240"
   ]
  },
  {
   "cell_type": "code",
   "execution_count": 8,
   "metadata": {},
   "outputs": [
    {
     "data": {
      "text/plain": [
       "540.0"
      ]
     },
     "execution_count": 8,
     "metadata": {},
     "output_type": "execute_result"
    }
   ],
   "source": [
    "150*3.6"
   ]
  },
  {
   "cell_type": "code",
   "execution_count": 11,
   "metadata": {},
   "outputs": [
    {
     "data": {
      "text/plain": [
       "36000"
      ]
     },
     "execution_count": 11,
     "metadata": {},
     "output_type": "execute_result"
    }
   ],
   "source": [
    "50400-60*240"
   ]
  }
 ],
 "metadata": {
  "kernelspec": {
   "display_name": "Python 3",
   "language": "python",
   "name": "python3"
  },
  "language_info": {
   "codemirror_mode": {
    "name": "ipython",
    "version": 3
   },
   "file_extension": ".py",
   "mimetype": "text/x-python",
   "name": "python",
   "nbconvert_exporter": "python",
   "pygments_lexer": "ipython3",
   "version": "3.12.1"
  }
 },
 "nbformat": 4,
 "nbformat_minor": 2
}

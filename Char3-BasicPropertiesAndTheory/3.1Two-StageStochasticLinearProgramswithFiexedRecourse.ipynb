{
 "cells": [
  {
   "cell_type": "markdown",
   "metadata": {},
   "source": [
    "# 标准型\n",
    "\n",
    "$$\n",
    "\\begin{gathered}\n",
    "\\min z=c^T x+\\mathrm{E}_{\\xi}\\left[\\min q(\\omega)^T y(\\omega)\\right] \\\\\n",
    "\\text { s. t. } \\quad A x=b \\\\\n",
    "T(\\omega) x+W y(\\omega)=h(\\omega) \\\\\n",
    "x \\geq 0, y(\\omega) \\geq 0\n",
    "\\end{gathered}\n",
    "$$\n",
    "\n",
    "这里需要注意，第一阶段的$x$被确定以后，那么第二阶段的$y$是可以尝试去影响第一阶段决策的影响的，也可以理解为`补偿第一阶段的错误`，因此，$y$对应的系数$W$叫做Recourse Matrix，补偿矩阵。\n",
    "\n",
    "# 确定性等价问题\n",
    "\n",
    "上面这个式子其实可以通过Reformulation成其他的格式，但是两者相同，这里叫做DEP（Deterministic Equivalent Problem）。\n",
    "\n",
    "\n",
    "$$\n",
    "\\begin{gathered}\n",
    "\\min z=c^T x+\\mathscr{Q}(x) \\\\\n",
    "\\text { s. t. } A x=b, \\\\\n",
    "x \\geq 0,\n",
    "\\end{gathered}\n",
    "$$\n",
    "\n",
    "where\n",
    "\n",
    "$$\n",
    "\\mathscr{Q}(x)=\\mathrm{E}_{\\xi} Q(x, \\xi(\\omega))\n",
    "$$\n",
    "\n",
    "and\n",
    "\n",
    "$$\n",
    "Q(x, \\xi(\\omega))=\\min _v\\left\\{q(\\omega)^T y \\mid W y=h(\\omega)-T(\\omega) x, y \\geq 0\\right\\}\n",
    "$$\n",
    "\n",
    "上面这个式子的部分还可以将其作为期望简单计算，这里不仔细推导。\n"
   ]
  },
  {
   "cell_type": "markdown",
   "metadata": {},
   "source": [
    "## 随机值是离散随机变量的情况\n",
    "\n",
    "如果我们已经有第一阶段的解：$K_{1}=\\{x|Ax=b,x\\ge 0\\}$，注意，这个第一阶段的解不依赖于随机变量，所以他是可以确定的。对于任意的随机变量$\\xi$来说，它对应的可行集为：$K_{2}(\\xi)=\\{x|y\\ge 0 , exists \\quad s.t. \\quad W(\\omega)y=h(\\omega)-T(\\omega)x\\}$\n",
    "\n",
    "上面这个比较抽象，下面举个书本的实际例子，简单点理解：\n",
    "\n",
    "$$\n",
    "\\begin{aligned}\n",
    "\\min 2 y_1+y_2 & \\\\\n",
    "\\text { s.t. } y_1+2 y_2 & \\geq \\xi_1-x_1 \\\\\n",
    "y_1+y_2 & \\geq \\xi_2-x_1-x_2 \\\\\n",
    "0 \\leq y_1 & \\leq 1,0 \\leq y_2 \\leq 1\n",
    "\\end{aligned}\n",
    "$$\n",
    "\n",
    "上面这个式子中，根据刚刚的思想，我们先来看确定的，但没有发现$Ax=b$的形式，因此$K_{1}$不存在。之后我们把这个constraint转换为带随机变量的形式就是：将$y$部分变为一个具体的整数，具体来说，两条约束变换为：$K_{2}=\\{x_{1}\\ge \\xi_{1}-3, x_{1}+x_{2}\\ge \\xi_{2}-2\\}$\n",
    "\n",
    "$$\n",
    "\\begin{aligned}\n",
    "3 & \\geq \\xi_1-x_1 \\\\\n",
    "2 & \\geq \\xi_2-x_1-x_2 \\\\\n",
    "\\end{aligned}\n",
    "$$\n",
    "\n",
    "这里，我们假定$\\xi_{1}=2,3,4$，$\\xi_{2}=1,4,7$，那么在这个情况，$x_{1}$和$x_{2}$必须大于等于0，因此，$K_{2}=\\{\n",
    "x|x_{1}\\ge 1,x_{1}+x_{2}\\ge 5\\}$\n",
    "\n"
   ]
  },
  {
   "cell_type": "markdown",
   "metadata": {},
   "source": []
  }
 ],
 "metadata": {
  "language_info": {
   "name": "python"
  }
 },
 "nbformat": 4,
 "nbformat_minor": 2
}
